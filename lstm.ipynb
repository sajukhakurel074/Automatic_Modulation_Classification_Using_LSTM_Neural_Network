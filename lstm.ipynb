{
  "nbformat": 4,
  "nbformat_minor": 0,
  "metadata": {
    "colab": {
      "provenance": []
    },
    "kernelspec": {
      "name": "python3",
      "display_name": "Python 3"
    },
    "language_info": {
      "name": "python"
    },
    "accelerator": "TPU"
  },
  "cells": [
    {
      "cell_type": "code",
      "source": [
        "%matplotlib inline"
      ],
      "metadata": {
        "id": "ju0RxCyfm__o"
      },
      "execution_count": null,
      "outputs": []
    },
    {
      "cell_type": "code",
      "source": [
        "! sudo apt-get install texlive-latex-recommended \n",
        "!sudo apt install cm-super dvipng texlive-latex-extra texlive-latex-recommended\n"
      ],
      "metadata": {
        "id": "da6x4nlYShcC"
      },
      "execution_count": null,
      "outputs": []
    },
    {
      "cell_type": "code",
      "source": [
        "!sudo apt install cm-super"
      ],
      "metadata": {
        "colab": {
          "base_uri": "https://localhost:8080/"
        },
        "id": "i49i3SzZ1uMJ",
        "outputId": "c334d983-0120-4363-c9d9-ce7b935b4753"
      },
      "execution_count": null,
      "outputs": [
        {
          "output_type": "stream",
          "name": "stdout",
          "text": [
            "Reading package lists... Done\n",
            "Building dependency tree       \n",
            "Reading state information... Done\n",
            "cm-super is already the newest version (0.3.4-11).\n",
            "0 upgraded, 0 newly installed, 0 to remove and 39 not upgraded.\n"
          ]
        }
      ]
    },
    {
      "cell_type": "code",
      "source": [
        "import numpy as np\n",
        "import time\n",
        "import pandas as pd\n",
        "import tensorflow as tf\n",
        "from tensorflow import keras\n",
        "from tensorflow.keras import layers\n",
        "from keras.layers import Input\n",
        "import matplotlib.pyplot as plt\n",
        "from google.colab import files\n",
        "import matplotlib\n",
        "import pickle\n",
        "import seaborn as sn\n",
        "\n",
        "matplotlib.use(\"pgf\")\n",
        "matplotlib.rcParams.update({\n",
        "    \"pgf.texsystem\": \"pdflatex\",\n",
        "    'font.family': 'serif',\n",
        "    'text.usetex': True,\n",
        "    'pgf.rcfonts': False,\n",
        "})\n",
        "matplotlib.rcParams['text.latex.unicode']=True\n",
        "\n"
      ],
      "metadata": {
        "id": "Him7MJhA8a1F",
        "colab": {
          "base_uri": "https://localhost:8080/"
        },
        "outputId": "4d678fdc-5bc8-48bd-d37a-02ef86fd4e15"
      },
      "execution_count": null,
      "outputs": [
        {
          "output_type": "stream",
          "name": "stderr",
          "text": [
            "/usr/local/lib/python3.7/dist-packages/ipykernel_launcher.py:21: MatplotlibDeprecationWarning: \n",
            "The text.latex.unicode rcparam was deprecated in Matplotlib 3.0 and will be removed in 3.2.\n"
          ]
        }
      ]
    },
    {
      "cell_type": "code",
      "execution_count": null,
      "metadata": {
        "id": "mPTdcrvGO1QB",
        "colab": {
          "base_uri": "https://localhost:8080/"
        },
        "outputId": "02deb548-86e9-455b-9dc3-655e980dd21e"
      },
      "outputs": [
        {
          "output_type": "stream",
          "name": "stdout",
          "text": [
            "Tensorflow version 2.8.0\n",
            "Running on TPU  ['10.118.205.194:8470']\n",
            "INFO:tensorflow:Deallocate tpu buffers before initializing tpu system.\n"
          ]
        },
        {
          "output_type": "stream",
          "name": "stderr",
          "text": [
            "INFO:tensorflow:Deallocate tpu buffers before initializing tpu system.\n"
          ]
        },
        {
          "output_type": "stream",
          "name": "stdout",
          "text": [
            "INFO:tensorflow:Initializing the TPU system: grpc://10.118.205.194:8470\n"
          ]
        },
        {
          "output_type": "stream",
          "name": "stderr",
          "text": [
            "INFO:tensorflow:Initializing the TPU system: grpc://10.118.205.194:8470\n"
          ]
        },
        {
          "output_type": "stream",
          "name": "stdout",
          "text": [
            "INFO:tensorflow:Finished initializing TPU system.\n"
          ]
        },
        {
          "output_type": "stream",
          "name": "stderr",
          "text": [
            "INFO:tensorflow:Finished initializing TPU system.\n",
            "WARNING:absl:`tf.distribute.experimental.TPUStrategy` is deprecated, please use  the non experimental symbol `tf.distribute.TPUStrategy` instead.\n"
          ]
        },
        {
          "output_type": "stream",
          "name": "stdout",
          "text": [
            "INFO:tensorflow:Found TPU system:\n"
          ]
        },
        {
          "output_type": "stream",
          "name": "stderr",
          "text": [
            "INFO:tensorflow:Found TPU system:\n"
          ]
        },
        {
          "output_type": "stream",
          "name": "stdout",
          "text": [
            "INFO:tensorflow:*** Num TPU Cores: 8\n"
          ]
        },
        {
          "output_type": "stream",
          "name": "stderr",
          "text": [
            "INFO:tensorflow:*** Num TPU Cores: 8\n"
          ]
        },
        {
          "output_type": "stream",
          "name": "stdout",
          "text": [
            "INFO:tensorflow:*** Num TPU Workers: 1\n"
          ]
        },
        {
          "output_type": "stream",
          "name": "stderr",
          "text": [
            "INFO:tensorflow:*** Num TPU Workers: 1\n"
          ]
        },
        {
          "output_type": "stream",
          "name": "stdout",
          "text": [
            "INFO:tensorflow:*** Num TPU Cores Per Worker: 8\n"
          ]
        },
        {
          "output_type": "stream",
          "name": "stderr",
          "text": [
            "INFO:tensorflow:*** Num TPU Cores Per Worker: 8\n"
          ]
        },
        {
          "output_type": "stream",
          "name": "stdout",
          "text": [
            "INFO:tensorflow:*** Available Device: _DeviceAttributes(/job:localhost/replica:0/task:0/device:CPU:0, CPU, 0, 0)\n"
          ]
        },
        {
          "output_type": "stream",
          "name": "stderr",
          "text": [
            "INFO:tensorflow:*** Available Device: _DeviceAttributes(/job:localhost/replica:0/task:0/device:CPU:0, CPU, 0, 0)\n"
          ]
        },
        {
          "output_type": "stream",
          "name": "stdout",
          "text": [
            "INFO:tensorflow:*** Available Device: _DeviceAttributes(/job:worker/replica:0/task:0/device:CPU:0, CPU, 0, 0)\n"
          ]
        },
        {
          "output_type": "stream",
          "name": "stderr",
          "text": [
            "INFO:tensorflow:*** Available Device: _DeviceAttributes(/job:worker/replica:0/task:0/device:CPU:0, CPU, 0, 0)\n"
          ]
        },
        {
          "output_type": "stream",
          "name": "stdout",
          "text": [
            "INFO:tensorflow:*** Available Device: _DeviceAttributes(/job:worker/replica:0/task:0/device:TPU:0, TPU, 0, 0)\n"
          ]
        },
        {
          "output_type": "stream",
          "name": "stderr",
          "text": [
            "INFO:tensorflow:*** Available Device: _DeviceAttributes(/job:worker/replica:0/task:0/device:TPU:0, TPU, 0, 0)\n"
          ]
        },
        {
          "output_type": "stream",
          "name": "stdout",
          "text": [
            "INFO:tensorflow:*** Available Device: _DeviceAttributes(/job:worker/replica:0/task:0/device:TPU:1, TPU, 0, 0)\n"
          ]
        },
        {
          "output_type": "stream",
          "name": "stderr",
          "text": [
            "INFO:tensorflow:*** Available Device: _DeviceAttributes(/job:worker/replica:0/task:0/device:TPU:1, TPU, 0, 0)\n"
          ]
        },
        {
          "output_type": "stream",
          "name": "stdout",
          "text": [
            "INFO:tensorflow:*** Available Device: _DeviceAttributes(/job:worker/replica:0/task:0/device:TPU:2, TPU, 0, 0)\n"
          ]
        },
        {
          "output_type": "stream",
          "name": "stderr",
          "text": [
            "INFO:tensorflow:*** Available Device: _DeviceAttributes(/job:worker/replica:0/task:0/device:TPU:2, TPU, 0, 0)\n"
          ]
        },
        {
          "output_type": "stream",
          "name": "stdout",
          "text": [
            "INFO:tensorflow:*** Available Device: _DeviceAttributes(/job:worker/replica:0/task:0/device:TPU:3, TPU, 0, 0)\n"
          ]
        },
        {
          "output_type": "stream",
          "name": "stderr",
          "text": [
            "INFO:tensorflow:*** Available Device: _DeviceAttributes(/job:worker/replica:0/task:0/device:TPU:3, TPU, 0, 0)\n"
          ]
        },
        {
          "output_type": "stream",
          "name": "stdout",
          "text": [
            "INFO:tensorflow:*** Available Device: _DeviceAttributes(/job:worker/replica:0/task:0/device:TPU:4, TPU, 0, 0)\n"
          ]
        },
        {
          "output_type": "stream",
          "name": "stderr",
          "text": [
            "INFO:tensorflow:*** Available Device: _DeviceAttributes(/job:worker/replica:0/task:0/device:TPU:4, TPU, 0, 0)\n"
          ]
        },
        {
          "output_type": "stream",
          "name": "stdout",
          "text": [
            "INFO:tensorflow:*** Available Device: _DeviceAttributes(/job:worker/replica:0/task:0/device:TPU:5, TPU, 0, 0)\n"
          ]
        },
        {
          "output_type": "stream",
          "name": "stderr",
          "text": [
            "INFO:tensorflow:*** Available Device: _DeviceAttributes(/job:worker/replica:0/task:0/device:TPU:5, TPU, 0, 0)\n"
          ]
        },
        {
          "output_type": "stream",
          "name": "stdout",
          "text": [
            "INFO:tensorflow:*** Available Device: _DeviceAttributes(/job:worker/replica:0/task:0/device:TPU:6, TPU, 0, 0)\n"
          ]
        },
        {
          "output_type": "stream",
          "name": "stderr",
          "text": [
            "INFO:tensorflow:*** Available Device: _DeviceAttributes(/job:worker/replica:0/task:0/device:TPU:6, TPU, 0, 0)\n"
          ]
        },
        {
          "output_type": "stream",
          "name": "stdout",
          "text": [
            "INFO:tensorflow:*** Available Device: _DeviceAttributes(/job:worker/replica:0/task:0/device:TPU:7, TPU, 0, 0)\n"
          ]
        },
        {
          "output_type": "stream",
          "name": "stderr",
          "text": [
            "INFO:tensorflow:*** Available Device: _DeviceAttributes(/job:worker/replica:0/task:0/device:TPU:7, TPU, 0, 0)\n"
          ]
        },
        {
          "output_type": "stream",
          "name": "stdout",
          "text": [
            "INFO:tensorflow:*** Available Device: _DeviceAttributes(/job:worker/replica:0/task:0/device:TPU_SYSTEM:0, TPU_SYSTEM, 0, 0)\n"
          ]
        },
        {
          "output_type": "stream",
          "name": "stderr",
          "text": [
            "INFO:tensorflow:*** Available Device: _DeviceAttributes(/job:worker/replica:0/task:0/device:TPU_SYSTEM:0, TPU_SYSTEM, 0, 0)\n"
          ]
        },
        {
          "output_type": "stream",
          "name": "stdout",
          "text": [
            "INFO:tensorflow:*** Available Device: _DeviceAttributes(/job:worker/replica:0/task:0/device:XLA_CPU:0, XLA_CPU, 0, 0)\n"
          ]
        },
        {
          "output_type": "stream",
          "name": "stderr",
          "text": [
            "INFO:tensorflow:*** Available Device: _DeviceAttributes(/job:worker/replica:0/task:0/device:XLA_CPU:0, XLA_CPU, 0, 0)\n"
          ]
        }
      ],
      "source": [
        "%tensorflow_version 2.x\n",
        "import tensorflow as tf\n",
        "print(\"Tensorflow version \" + tf.__version__)\n",
        "try:\n",
        "  tpu = tf.distribute.cluster_resolver.TPUClusterResolver()  # TPU detection\n",
        "  print('Running on TPU ', tpu.cluster_spec().as_dict()['worker'])\n",
        "except ValueError:\n",
        "  raise BaseException('ERROR: Not connected to a TPU runtime; please see the previous cell in this notebook for instructions!')\n",
        "tf.config.experimental_connect_to_cluster(tpu)\n",
        "tf.tpu.experimental.initialize_tpu_system(tpu)\n",
        "tpu_strategy = tf.distribute.experimental.TPUStrategy(tpu)"
      ]
    },
    {
      "cell_type": "code",
      "source": [
        "from google.colab import drive\n",
        "\n",
        "drive.mount('/gdrive', force_remount = True)\n",
        "\n",
        "Xd = pd.read_pickle(\"/gdrive/MyDrive/RML2016.10a_dict.pkl\")"
      ],
      "metadata": {
        "id": "UR9xTXxpAStd",
        "colab": {
          "base_uri": "https://localhost:8080/"
        },
        "outputId": "8d21c8b6-5211-4c9b-88a4-c8f611e6d992"
      },
      "execution_count": null,
      "outputs": [
        {
          "output_type": "stream",
          "name": "stdout",
          "text": [
            "Mounted at /gdrive\n"
          ]
        }
      ]
    },
    {
      "cell_type": "code",
      "source": [
        "snrs,mods = map(lambda j: sorted(list(set(map(lambda x: x[j], Xd.keys())))), [1,0])\n",
        "print(len(snrs), len(mods))"
      ],
      "metadata": {
        "colab": {
          "base_uri": "https://localhost:8080/"
        },
        "id": "Axk4MKkquMV-",
        "outputId": "3764a955-8219-4c1f-ddc2-819cb4de8472"
      },
      "execution_count": null,
      "outputs": [
        {
          "output_type": "stream",
          "name": "stdout",
          "text": [
            "20 11\n"
          ]
        }
      ]
    },
    {
      "cell_type": "code",
      "execution_count": null,
      "metadata": {
        "id": "KPtiF3jNCA64",
        "colab": {
          "base_uri": "https://localhost:8080/"
        },
        "outputId": "21c955c5-66d6-4155-9d58-b3aa2435e827"
      },
      "outputs": [
        {
          "output_type": "stream",
          "name": "stdout",
          "text": [
            "(110000, 2, 128) [2, 128]\n",
            "(110000, 128, 2)\n",
            "(110000, 128, 2)\n"
          ]
        }
      ],
      "source": [
        "# Load the dataset ...\n",
        "#  You will need to seperately download or generate this file\n",
        "\n",
        "snrs,mods = map(lambda j: sorted(list(set(map(lambda x: x[j], Xd.keys())))), [1,0])\n",
        "X = []  \n",
        "lbl = []\n",
        "for mod in mods:\n",
        "    for snr in snrs:\n",
        "        X.append(Xd[(mod,snr)])\n",
        "        for i in range(Xd[(mod,snr)].shape[0]):  lbl.append((mod,snr))\n",
        "X = np.vstack(X)\n",
        "\n",
        "np.random.seed(2016)\n",
        "n_examples = X.shape[0]\n",
        "n_train = int(n_examples * 0.5)\n",
        "train_idx = np.random.choice(range(0,n_examples), size=n_train, replace=False)\n",
        "test_idx = list(set(range(0,n_examples))-set(train_idx))\n",
        "X_train = X[train_idx]\n",
        "X_test =  X[test_idx]\n",
        "def to_onehot(yy):\n",
        "    yy1 = np.zeros([len(yy), max(yy)+1])\n",
        "    yy1[np.arange(len(yy)),yy] = 1\n",
        "    return yy1\n",
        "Y_train = to_onehot(list(map(lambda x: mods.index(lbl[x][0]), train_idx)))\n",
        "Y_test = to_onehot(list(map(lambda x: mods.index(lbl[x][0]), test_idx)))\n",
        "\n",
        "in_shp = list(X_train.shape[1:])\n",
        "print(X_train.shape, in_shp)\n",
        "classes = mods\n",
        "\n",
        "print(X_train.transpose((0,2,1)).shape)\n",
        "\n",
        "X_train = X_train.transpose((0,2,1))\n",
        "X_test = X_test.transpose((0,2,1))\n",
        "print(X_test.shape)"
      ]
    },
    {
      "cell_type": "code",
      "source": [
        "inputs = Input(shape=(None, 128, 2))\n",
        "\n",
        "with tpu_strategy.scope(): # creating the model in the TPUStrategy scope means we will train the model on the TPU\n",
        "  model = keras.Sequential()\n",
        "  model.add(layers.LSTM(32, return_sequences=True))\n",
        "  model.add(layers.LSTM(32, return_sequences=True))\n",
        "  model.add(layers.LSTM(32, return_sequences=False))\n",
        "  model.add(layers.Dense(32, activation=\"relu\"))\n",
        "  model.add(layers.Dense(32, activation=\"relu\"))\n",
        "  model.add(layers.Dense(32, activation=\"relu\"))\n",
        "  model.add(layers.Dense(len(classes), activation=\"softmax\"))\n",
        "\n",
        "  model.build((None,128,2))\n",
        "  model.compile(optimizer='Adam', loss='categorical_crossentropy', metrics=['accuracy'])\n",
        "model.summary()\n",
        "\n"
      ],
      "metadata": {
        "id": "h8oEW84YBzg8",
        "colab": {
          "base_uri": "https://localhost:8080/"
        },
        "outputId": "f28d3bc2-e044-43fc-ef65-91163f92c957"
      },
      "execution_count": null,
      "outputs": [
        {
          "output_type": "stream",
          "name": "stdout",
          "text": [
            "Model: \"sequential_3\"\n",
            "_________________________________________________________________\n",
            " Layer (type)                Output Shape              Param #   \n",
            "=================================================================\n",
            " lstm_9 (LSTM)               (None, 128, 32)           4480      \n",
            "                                                                 \n",
            " lstm_10 (LSTM)              (None, 128, 32)           8320      \n",
            "                                                                 \n",
            " lstm_11 (LSTM)              (None, 32)                8320      \n",
            "                                                                 \n",
            " dense_12 (Dense)            (None, 32)                1056      \n",
            "                                                                 \n",
            " dense_13 (Dense)            (None, 32)                1056      \n",
            "                                                                 \n",
            " dense_14 (Dense)            (None, 32)                1056      \n",
            "                                                                 \n",
            " dense_15 (Dense)            (None, 11)                363       \n",
            "                                                                 \n",
            "=================================================================\n",
            "Total params: 24,651\n",
            "Trainable params: 24,651\n",
            "Non-trainable params: 0\n",
            "_________________________________________________________________\n"
          ]
        }
      ]
    },
    {
      "cell_type": "code",
      "source": [
        "print(n_examples)"
      ],
      "metadata": {
        "colab": {
          "base_uri": "https://localhost:8080/"
        },
        "id": "48js64VyLxYe",
        "outputId": "a6500315-4098-4842-bf0b-fd220a388698"
      },
      "execution_count": null,
      "outputs": [
        {
          "output_type": "stream",
          "name": "stdout",
          "text": [
            "220000\n"
          ]
        }
      ]
    },
    {
      "cell_type": "code",
      "source": [
        "keras.utils.plot_model(model, show_shapes=True)"
      ],
      "metadata": {
        "colab": {
          "base_uri": "https://localhost:8080/",
          "height": 865
        },
        "id": "n-aeX2NTybWf",
        "outputId": "0773056c-9930-4de0-c5de-4ad49c800bb9"
      },
      "execution_count": null,
      "outputs": [
        {
          "output_type": "execute_result",
          "data": {
            "image/png": "[encoded data removed]",
            "text/plain": [
              "<IPython.core.display.Image object>"
            ]
          },
          "metadata": {},
          "execution_count": 10
        }
      ]
    },
    {
      "cell_type": "code",
      "source": [
        "filepath = 'test.wts.h5'\n",
        "nb_epoch = 100     # number of epochs to train on\n",
        "batch_size = 1024  # training batch size\n",
        "history = model.fit(X_train,\n",
        "    Y_train,\n",
        "    batch_size=batch_size,\n",
        "    epochs=nb_epoch,\n",
        "    #show_accuracy=True,\n",
        "    verbose=2,\n",
        "    validation_data=(X_test, Y_test),\n",
        "    callbacks = [\n",
        "        keras.callbacks.ModelCheckpoint(filepath, monitor='val_loss', verbose=0, save_best_only=True, mode='auto'),\n",
        "        keras.callbacks.EarlyStopping(monitor='val_loss', patience=5, verbose=0, mode='auto')\n",
        "    ])\n",
        "# we re-load the best weights once training is finished\n",
        "model.load_weights(filepath)"
      ],
      "metadata": {
        "id": "amMKbxK0ET2D",
        "colab": {
          "base_uri": "https://localhost:8080/"
        },
        "outputId": "1b08122b-f6b9-4210-fc26-90d5950e6188"
      },
      "execution_count": null,
      "outputs": [
        {
          "output_type": "stream",
          "name": "stdout",
          "text": [
            "Epoch 1/100\n",
            "108/108 - 30s - loss: 2.3762 - val_loss: 2.3971 - 30s/epoch - 274ms/step\n",
            "Epoch 2/100\n",
            "108/108 - 9s - loss: 2.3902 - val_loss: 2.3988 - 9s/epoch - 86ms/step\n",
            "Epoch 3/100\n",
            "108/108 - 10s - loss: 2.3982 - val_loss: 2.3979 - 10s/epoch - 88ms/step\n",
            "Epoch 4/100\n",
            "108/108 - 9s - loss: 2.3980 - val_loss: 2.3980 - 9s/epoch - 88ms/step\n",
            "Epoch 5/100\n",
            "108/108 - 9s - loss: 2.3980 - val_loss: 2.3980 - 9s/epoch - 86ms/step\n",
            "Epoch 6/100\n",
            "108/108 - 9s - loss: 2.3980 - val_loss: 2.3980 - 9s/epoch - 85ms/step\n"
          ]
        }
      ]
    },
    {
      "cell_type": "code",
      "source": [
        "nb_epoch = 100     # number of epochs to train on\n",
        "batch_size = 1024  # training batch size"
      ],
      "metadata": {
        "id": "DtquVB-b8ifl"
      },
      "execution_count": null,
      "outputs": []
    },
    {
      "cell_type": "code",
      "source": [
        "model.load_weights(\"/content/sample_data/LSTM.wts.h5\")\n"
      ],
      "metadata": {
        "id": "HEPiA86S8SFx"
      },
      "execution_count": null,
      "outputs": []
    },
    {
      "cell_type": "code",
      "source": [
        "score = model.evaluate(X_test, Y_test, batch_size=1024)\n",
        "print(score)"
      ],
      "metadata": {
        "colab": {
          "base_uri": "https://localhost:8080/"
        },
        "id": "eDdNtH6UKX9j",
        "outputId": "beecd573-6f46-49be-f98e-ba9113805a78"
      },
      "execution_count": null,
      "outputs": [
        {
          "output_type": "stream",
          "name": "stdout",
          "text": [
            "108/108 [==============================] - 12s 37ms/step - loss: 1.6561 - accuracy: 0.3733\n",
            "[1.6561037302017212, 0.3733000159263611]\n"
          ]
        }
      ]
    },
    {
      "cell_type": "code",
      "source": [
        "history = pickle.load(open(\"/content/sample_data/LSTMtrainHistoryDict\", \"rb\"))\n",
        "epochs = 1 + np.arange(len(history[\"loss\"]))\n",
        "print(epochs)\n",
        "print(history[\"loss\"])"
      ],
      "metadata": {
        "colab": {
          "base_uri": "https://localhost:8080/",
          "height": 217
        },
        "id": "Ad_FoAQw8_Eq",
        "outputId": "2277cf32-4a53-4391-b490-3f3fefa8ed6f"
      },
      "execution_count": null,
      "outputs": [
        {
          "output_type": "error",
          "ename": "FileNotFoundError",
          "evalue": "ignored",
          "traceback": [
            "\u001b[0;31m---------------------------------------------------------------------------\u001b[0m",
            "\u001b[0;31mFileNotFoundError\u001b[0m                         Traceback (most recent call last)",
            "\u001b[0;32m<ipython-input-15-19d844fd4158>\u001b[0m in \u001b[0;36m<module>\u001b[0;34m()\u001b[0m\n\u001b[0;32m----> 1\u001b[0;31m \u001b[0mhistory\u001b[0m \u001b[0;34m=\u001b[0m \u001b[0mpickle\u001b[0m\u001b[0;34m.\u001b[0m\u001b[0mload\u001b[0m\u001b[0;34m(\u001b[0m\u001b[0mopen\u001b[0m\u001b[0;34m(\u001b[0m\u001b[0;34m\"/content/sample_data/LSTMtrainHistoryDict\"\u001b[0m\u001b[0;34m,\u001b[0m \u001b[0;34m\"rb\"\u001b[0m\u001b[0;34m)\u001b[0m\u001b[0;34m)\u001b[0m\u001b[0;34m\u001b[0m\u001b[0;34m\u001b[0m\u001b[0m\n\u001b[0m\u001b[1;32m      2\u001b[0m \u001b[0mepochs\u001b[0m \u001b[0;34m=\u001b[0m \u001b[0;36m1\u001b[0m \u001b[0;34m+\u001b[0m \u001b[0mnp\u001b[0m\u001b[0;34m.\u001b[0m\u001b[0marange\u001b[0m\u001b[0;34m(\u001b[0m\u001b[0mlen\u001b[0m\u001b[0;34m(\u001b[0m\u001b[0mhistory\u001b[0m\u001b[0;34m[\u001b[0m\u001b[0;34m\"loss\"\u001b[0m\u001b[0;34m]\u001b[0m\u001b[0;34m)\u001b[0m\u001b[0;34m)\u001b[0m\u001b[0;34m\u001b[0m\u001b[0;34m\u001b[0m\u001b[0m\n\u001b[1;32m      3\u001b[0m \u001b[0mprint\u001b[0m\u001b[0;34m(\u001b[0m\u001b[0mepochs\u001b[0m\u001b[0;34m)\u001b[0m\u001b[0;34m\u001b[0m\u001b[0;34m\u001b[0m\u001b[0m\n\u001b[1;32m      4\u001b[0m \u001b[0mprint\u001b[0m\u001b[0;34m(\u001b[0m\u001b[0mhistory\u001b[0m\u001b[0;34m[\u001b[0m\u001b[0;34m\"loss\"\u001b[0m\u001b[0;34m]\u001b[0m\u001b[0;34m)\u001b[0m\u001b[0;34m\u001b[0m\u001b[0;34m\u001b[0m\u001b[0m\n",
            "\u001b[0;31mFileNotFoundError\u001b[0m: [Errno 2] No such file or directory: '/content/sample_data/LSTMtrainHistoryDict'"
          ]
        }
      ]
    },
    {
      "cell_type": "code",
      "source": [
        "with open('./trainHistoryDict', 'wb') as file_pi:\n",
        "    pickle.dump(history.history, file_pi)"
      ],
      "metadata": {
        "id": "EqNDgDbG53gq"
      },
      "execution_count": null,
      "outputs": []
    },
    {
      "cell_type": "code",
      "source": [
        "textwidth = 6.10356\n",
        "#figure.set_size_inches(w=textwidth/2.5)\n"
      ],
      "metadata": {
        "id": "DGbp-j-32OrB"
      },
      "execution_count": null,
      "outputs": []
    },
    {
      "cell_type": "code",
      "source": [
        "matplotlib.pyplot.figure(figsize=(textwidth/1.5,3.8), dpi=200)\n",
        "plt.figure()\n",
        "plt.plot(epochs,history['loss'], label='train loss+error')\n",
        "plt.savefig(\"/content/sample_data/Test.png\")\n",
        "plt.xticks(epochs)\n",
        "plt.show()"
      ],
      "metadata": {
        "id": "rfXi-NPV5i2f"
      },
      "execution_count": null,
      "outputs": []
    },
    {
      "cell_type": "code",
      "source": [],
      "metadata": {
        "id": "DBYcVsdT5kgt"
      },
      "execution_count": null,
      "outputs": []
    },
    {
      "cell_type": "code",
      "source": [
        "plt.figure()\n",
        "plt.title('Training performance')\n",
        "plt.plot(epochs,history['loss'], linestyle=\"dashed\", color=\"black\", label='Training Loss')\n",
        "plt.plot(epochs,history['val_loss'], color=\"black\", label=\"Validation Error\")\n",
        "plt.xlabel(\"Epochs\")\n",
        "plt.ylabel(\"Loss\")\n",
        "plt.legend()\n",
        "plt.savefig(\"LSTM_Train_Validation_Loss.pgf\", bbox_inches=\"tight\")\n",
        "plt.show()"
      ],
      "metadata": {
        "id": "r7XqRJN_PU--"
      },
      "execution_count": null,
      "outputs": []
    },
    {
      "cell_type": "code",
      "source": [
        "def plot_confusion_matrix(cm, title='Confusion matrix', cmap=plt.cm.Blues, labels=[]):\n",
        "    matplotlib.pyplot.figure(figsize=(textwidth,3.8), dpi=200)\n",
        "    plt.imshow(cm, interpolation='nearest', cmap=cmap)\n",
        "    plt.title(title)\n",
        "    #plt.colorbar()\n",
        "    tick_marks = np.arange(len(labels))\n",
        "    plt.xticks(tick_marks, labels, rotation=45)\n",
        "    plt.yticks(tick_marks, labels)\n",
        "    plt.tight_layout()\n",
        "    plt.ylabel('True label')\n",
        "    plt.xlabel('Predicted label')"
      ],
      "metadata": {
        "id": "ZoJTCGw7QKnZ"
      },
      "execution_count": null,
      "outputs": []
    },
    {
      "cell_type": "code",
      "source": [
        "start_time = time.perf_counter()\n",
        "test_Y_hat = model.predict(X_test, batch_size=batch_size)\n",
        "end_time = time.perf_counter()\n",
        "avg_time = (end_time - start_time)/X_test.shape[0]\n",
        "print(\"For simple LSTM\")\n",
        "print(\"Number of signals: \" + str(X_test.shape[0]) )\n",
        "print(\"Average time per perdiction: \" + str(avg_time * 1e3))\n",
        "print(\"Total Time taken: \" + str(end_time-start_time))"
      ],
      "metadata": {
        "id": "9MkVAo0PICs3",
        "colab": {
          "base_uri": "https://localhost:8080/"
        },
        "outputId": "8290145b-6298-469c-d7e1-31fa85f4e834"
      },
      "execution_count": null,
      "outputs": [
        {
          "output_type": "stream",
          "name": "stdout",
          "text": [
            "For simple LSTM\n",
            "Number of signals: 110000\n",
            "Average time per perdiction: 0.03756853828181813\n",
            "Total Time taken: 4.132539210999994\n"
          ]
        }
      ]
    },
    {
      "cell_type": "code",
      "source": [
        "conf = np.zeros([len(classes),len(classes)])\n",
        "confnorm = np.zeros([len(classes),len(classes)])\n",
        "for i in range(0,X_test.shape[0]):\n",
        "    j = list(Y_test[i,:]).index(1)\n",
        "    k = int(np.argmax(test_Y_hat[i,:]))\n",
        "    conf[k,j] = conf[k,j] + 1\n",
        "for i in range(0,len(classes)):\n",
        "    confnorm[:,i] = conf[:,i] / np.sum(conf[:,i])"
      ],
      "metadata": {
        "id": "qLNc5n6PEJmg"
      },
      "execution_count": null,
      "outputs": []
    },
    {
      "cell_type": "code",
      "source": [
        "print(X_test.shape)\n",
        "#plt.figure(figsize=(7, 7), dpi=80)\n",
        "matplotlib.pyplot.figure(figsize=(textwidth-0.2,textwidth-0.2), dpi=600)\n",
        "sn.set(rc={'figure.figsize':(textwidth,3.8), 'text.usetex' : True })\n",
        "sn.set(font_scale=0.5) # for label size\n",
        "ax = sn.heatmap(confnorm, annot=True, cmap=\"Greens\", xticklabels=classes, yticklabels=classes, linewidths=0.5, cbar=False)\n",
        "ax.set_xticklabels(classes,rotation=45)\n",
        "ax.set_xlabel(\"Actual Modulation Type\", fontsize=\"8\")\n",
        "ax.set_ylabel(\"Predicted Modulation Type\", fontsize=\"8\")\n",
        "ax.set_title(\"Overall Confusion Matrix\", fontsize=\"12\")\n",
        "#plot_confusion_matrix(confnorm, labels=classes)\n",
        "fig = ax.get_figure()\n",
        "fig.savefig(\"LSTM_Overall_CM.png\", bbox_inches=\"tight\")"
      ],
      "metadata": {
        "id": "CGMLAGPHQNd9"
      },
      "execution_count": null,
      "outputs": []
    },
    {
      "cell_type": "code",
      "source": [
        "def plot_small_confusion(title, data, classes, filename=\"\" ):\n",
        "  matplotlib.pyplot.figure(figsize=(textwidth/2.3,textwidth/2.3), dpi=600)\n",
        "  sn.set(rc={'figure.figsize':(textwidth,3.8), 'text.usetex' : True })\n",
        "  sn.set(font_scale=0.3) # for label size\n",
        "  ax = sn.heatmap(confnorm, annot=False, cmap=\"Greens\", xticklabels=classes, yticklabels=classes, linewidths=0.5, cbar=False)\n",
        "  ax.set_xticklabels(classes,rotation=45)\n",
        "  #ax.set_xlabel(\"Actual Modulation Type\", fontsize=\"8\")\n",
        "  #ax.set_ylabel(\"Predicted Modulation Type\", fontsize=\"8\")\n",
        "  ax.set_title(title, fontsize=\"12\")\n",
        "  #plot_confusion_matrix(confnorm, labels=classes)\n",
        "  fig = ax.get_figure()\n",
        "  fig.savefig(filename, bbox_inches=\"tight\")"
      ],
      "metadata": {
        "id": "U3qzRlXxQAIi"
      },
      "execution_count": null,
      "outputs": []
    },
    {
      "cell_type": "code",
      "source": [
        "acc = {}\n",
        "test_SNRs = np.array( list(map(lambda x: lbl[x][1], test_idx) ) )\n",
        "accuracies = list()\n",
        "for snr in snrs:\n",
        "\n",
        "    # extract classes @ SNR\n",
        "    #print(np.where(np.array(test_SNRs))==snr)\n",
        "    #test_X_i = X_test[np.where(np.array(test_SNRs)==snr)]\n",
        "    #test_Y_i = Y_test[np.where(np.array(test_SNRs)==snr)]    \n",
        "    test_X_i = X_test[np.nonzero(test_SNRs == snr)]\n",
        "    test_Y_i = Y_test[np.nonzero(test_SNRs == snr)]\n",
        "    #test_X_i = np.expand_dims( test_X_i, axis = 1 )\n",
        "    if ( test_X_i.shape[0] == 0 ):\n",
        "      continue\n",
        "    # estimate classes\n",
        "    test_Y_i_hat = model.predict(test_X_i, batch_size = 1024 )\n",
        "    conf = np.zeros([len(classes),len(classes)])\n",
        "    confnorm = np.zeros([len(classes),len(classes)])\n",
        "    for i in range(0,test_X_i.shape[0]):\n",
        "        j = list(test_Y_i[i,:]).index(1)\n",
        "        k = int(np.argmax(test_Y_i_hat[i,:]))\n",
        "        conf[k,j] = conf[k,j] + 1\n",
        "    for i in range(0,len(classes)):\n",
        "        confnorm[:,i] = conf[:,i] / np.sum(conf[:,i])\n",
        "    #plt.figure()\n",
        "    #plot_confusion_matrix(confnorm, labels=classes, title=\"ConvNet Confusion Matrix (SNR=%d)\"%(snr))\n",
        "    plot_small_confusion(\"Confusion matrix for SNR=\"+str(snr), confnorm, classes,\"LSTM_CM_\" + str(snr) + \".png\")\n",
        "    cor = np.sum(np.diag(conf))\n",
        "    ncor = np.sum(conf) - cor\n",
        "    accur = cor / ( cor + ncor )\n",
        "    print(\"Overall Accuracy: \", accur)\n",
        "    acc[snr] = 1.0*cor/(cor+ncor)\n",
        "    accuracies.append(accur)\n",
        "    #plt.plot(snr, cor/(cor+ncor))"
      ],
      "metadata": {
        "id": "eGAUyJZ9PxOu"
      },
      "execution_count": null,
      "outputs": []
    },
    {
      "cell_type": "code",
      "source": [
        "#sn.set(font_scale=1.0) # for label size\n",
        "\n",
        "#plt.style.use(\"default\")\n",
        "\n",
        "fig = plt.figure()\n",
        "matplotlib.pyplot.figure(figsize=(textwidth-0.2,3.8), dpi=600)\n",
        "fig.patch.set_facecolor(\"white\")\n",
        "\n",
        "plt.title('SNR-Accuracy Plot', fontsize=\"12\")\n",
        "ax = plt.plot(snrs,accuracies, color=\"black\")\n",
        "plt.grid(b=False)\n",
        "plt.xlabel(\"SNR (dB)\")\n",
        "plt.ylabel(\"Accuracy\")\n",
        "plt.savefig(\"LSTM_SNR_Acc.png\", bbox_inches=\"tight\")\n",
        "plt.show()"
      ],
      "metadata": {
        "id": "TFloDBPlP0wV"
      },
      "execution_count": null,
      "outputs": []
    }
  ]
}